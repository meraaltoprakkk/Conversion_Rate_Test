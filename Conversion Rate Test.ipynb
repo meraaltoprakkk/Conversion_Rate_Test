{
 "cells": [
  {
   "cell_type": "markdown",
   "id": "609e1462-e0a8-45d1-99ca-d5360bf8e647",
   "metadata": {},
   "source": [
    "# İş uygulaması: Dönüşüm Oran Testi"
   ]
  },
  {
   "cell_type": "code",
   "execution_count": 2,
   "id": "30a9738e-d9ad-4ae3-8e48-62b0d0b21b2e",
   "metadata": {},
   "outputs": [],
   "source": [
    "#Problem :\n",
    "# Bir yazılım ile bir mecada reklam verilmiş ve bu reklama ilişkin yazılım\n",
    "#tarafından 0.125 dönüşüm oranı elde edildiği ifade edilmiş. \n",
    "#Fakat bu durum kontrol edilmek isteniliyor.\n",
    "#Çünkü bu yüksek bir oran ve gelirler incelendiğinde örtüşmüyor.\n",
    "\n",
    "#Detaylar :\n",
    "#500 Kişi dış mecrada reklamlara tıklamış, 40 tanesi sitemize gelip alışveriş\n",
    "#yapmış.\n",
    "#Örnek üzerinden elde edilen dönüşüm oranı : 40/500 = 0.08"
   ]
  },
  {
   "cell_type": "code",
   "execution_count": null,
   "id": "8f132318-1b21-4d98-a254-fbc4321f5e48",
   "metadata": {},
   "outputs": [],
   "source": [
    "H0 : p = 0.125\n",
    "H1 : p!= 0.125"
   ]
  },
  {
   "cell_type": "code",
   "execution_count": 4,
   "id": "0eade144-3091-4840-8958-84998a6faa0d",
   "metadata": {},
   "outputs": [],
   "source": [
    "from statsmodels.stats.proportion import proportions_ztest"
   ]
  },
  {
   "cell_type": "code",
   "execution_count": 5,
   "id": "08ac889a-e594-4d4c-b6d0-dadd7f42c7ad",
   "metadata": {},
   "outputs": [],
   "source": [
    "#count (başarı sayısı), nobs (gözlem sayısı), value (test etmek istediğimiz değer)\n",
    "count = 40\n",
    "nobs = 500\n",
    "value = 0.125"
   ]
  },
  {
   "cell_type": "code",
   "execution_count": 6,
   "id": "8db1a73c-019d-4999-acd8-7882a06c584b",
   "metadata": {},
   "outputs": [
    {
     "data": {
      "text/plain": [
       "(-3.7090151628513017, 0.0002080669689845979)"
      ]
     },
     "execution_count": 6,
     "metadata": {},
     "output_type": "execute_result"
    }
   ],
   "source": [
    "proportions_ztest(count, nobs, value)"
   ]
  },
  {
   "cell_type": "code",
   "execution_count": 7,
   "id": "6429d7ed-3042-4566-939e-4005b5caffc7",
   "metadata": {},
   "outputs": [],
   "source": [
    "# yapmış olduğumuz test 0.05'den kuçuk oldupundan dolayı H0 REDDELİR.\n",
    "#Ürünü test ettiğimizde dönüşüm oranı 0.125 değildir. yüzde 95 güven aralığıyla\n",
    "#bu şekilde olmadığını ifade edebiliriz."
   ]
  },
  {
   "cell_type": "code",
   "execution_count": null,
   "id": "e1f9af42-62b4-4383-ae3f-db2d8c68d7fb",
   "metadata": {},
   "outputs": [],
   "source": []
  }
 ],
 "metadata": {
  "kernelspec": {
   "display_name": "Python 3 (ipykernel)",
   "language": "python",
   "name": "python3"
  },
  "language_info": {
   "codemirror_mode": {
    "name": "ipython",
    "version": 3
   },
   "file_extension": ".py",
   "mimetype": "text/x-python",
   "name": "python",
   "nbconvert_exporter": "python",
   "pygments_lexer": "ipython3",
   "version": "3.9.13"
  }
 },
 "nbformat": 4,
 "nbformat_minor": 5
}
